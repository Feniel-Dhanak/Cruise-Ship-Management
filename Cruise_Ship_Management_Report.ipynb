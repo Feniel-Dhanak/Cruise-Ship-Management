{
 "cells": [
  {
   "cell_type": "markdown",
   "id": "e8e2e796",
   "metadata": {},
   "source": [
    "# Cruise Ship Management System"
   ]
  },
  {
   "cell_type": "markdown",
   "id": "c0463e5c",
   "metadata": {},
   "source": [
    "## Abstract\n",
    "This project is a web-based Cruise Ship Management System developed using **HTML, CSS, JavaScript, and Firebase**. It provides role-based dashboards for Admin, Supervisor, Manager, and Voyager, enabling functionalities such as managing items, registering voyagers, booking services, and viewing reports. The system focuses on security, usability, and responsive design."
   ]
  },
  {
   "cell_type": "markdown",
   "id": "825fdd3c",
   "metadata": {},
   "source": [
    "## Introduction\n",
    "The Cruise Ship Management System ensures smooth communication between administrators, supervisors, managers, and voyagers with modern web technologies."
   ]
  },
  {
   "cell_type": "markdown",
   "id": "efc4c045",
   "metadata": {},
   "source": [
    "## Objectives\n",
    "- Provide separate dashboards for different roles.\n",
    "- Implement secure authentication and role-based access.\n",
    "- Enable item management, bookings, and registrations.\n",
    "- Ensure responsive design for multiple devices.\n",
    "- Maintain a user-friendly and efficient UI/UX."
   ]
  },
  {
   "cell_type": "markdown",
   "id": "a002bf8c",
   "metadata": {},
   "source": [
    "## Methodology\n",
    "The system uses Firebase for authentication and data storage, while the frontend is implemented with HTML, CSS, and JavaScript. Each role has restricted access to functionalities:\n",
    "- **Admin**: Register voyagers, manage items.\n",
    "- **Supervisor**: Monitor orders.\n",
    "- **Manager**: Oversee bookings and cancellations.\n",
    "- **Voyager**: Register, log in, book services, and manage bookings."
   ]
  },
  {
   "cell_type": "markdown",
   "id": "e2fb40dd",
   "metadata": {},
   "source": [
    "## Features\n",
    "- Role-based login (Admin, Supervisor, Manager, Voyager).\n",
    "- Item management (add/delete items).\n",
    "- Voyager registration with success/error messages.\n",
    "- Booking and cancellation system.\n",
    "- Responsive design with media queries.\n",
    "- Scrollable dashboards where needed.\n",
    "- User feedback messages with styled backgrounds."
   ]
  },
  {
   "cell_type": "markdown",
   "id": "a0911d60",
   "metadata": {},
   "source": [
    "## Project Structure\n",
    "```\n",
    "CruiseShipApp/\n",
    "├── Images/                       #BG image\n",
    "├── Scripts/                      # JS logic for all pages(includes firebase.js)\n",
    "├── styles/                       # Styling for all pages\n",
    "├── dashboard-admin.html          # Admin page\n",
    "├── dashboard-head-cook.html      # Head Cook page\n",
    "├── dashboard-manager.html        # Manager page\n",
    "├── dashboard-supervisor.html     # Supervisor page\n",
    "├── dashboard-voyager.html        # Voyager page\n",
    "├── login.html                    # Login page\n",
    "├── register.html                 # Register page\n",
    "└── README.md                     # Documentation\n",
    "```"
   ]
  },
  {
   "cell_type": "markdown",
   "id": "882921c6",
   "metadata": {},
   "source": [
    "## How to Run\n",
    "1. Clone or download the project folder.\n",
    "2. Open `login.html` or `register.html` in a web browser.\n",
    "3. Ensure Firebase configuration in `firebase.js` is updated with your credentials.\n",
    "4. Login/Register as per role.\n",
    "5. Explore dashboards (Admin, Supervisor, Manager, Voyager)."
   ]
  },
  {
   "cell_type": "markdown",
   "id": "796de7c8",
   "metadata": {},
   "source": [
    "## Test Cases\n",
    "| Test Case ID | Feature | Steps | Expected Output |\n",
    "|--------------|---------|-------|----------------|\n",
    "| TC01 | Login | Enter valid credentials | Redirects to correct dashboard |\n",
    "| TC02 | Login | Enter invalid credentials | Error message displayed |\n",
    "| TC03 | Admin - Add Item | Add a new item | Success message shown |\n",
    "| TC04 | Admin - Delete Item | Delete an item | Success message shown |\n",
    "| TC05 | Register Voyager | Fill form and submit | Voyager registered successfully |\n",
    "| TC06 | Voyager - Book Item | Select and book an item | Booking success message shown |\n",
    "| TC07 | Voyager - Cancel Booking | Cancel an existing booking | Success message shown |\n",
    "| TC08 | Supervisor - Monitor Order | Open Orders dashboard | All Orders displayed |\n",
    "| TC09 | Manager - Monitor Bookings | Open bookings dashboard | All bookings displayed |\n",
    "| TC10 | Responsive Design | Resize window < 540px | Hamburger menu appears |"
   ]
  },
  {
   "cell_type": "markdown",
   "id": "2008ff69",
   "metadata": {},
   "source": [
    "## Conclusion\n",
    "The Cruise Ship Management System successfully demonstrates a role-based management application with authentication, data handling, and responsive UI. It reduces manual errors, improves efficiency, and enhances the voyager experience."
   ]
  }
 ],
 "metadata": {
  "language_info": {
   "name": "python"
  }
 },
 "nbformat": 4,
 "nbformat_minor": 5
}
